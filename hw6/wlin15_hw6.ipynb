{
 "cells": [
  {
   "cell_type": "code",
   "execution_count": 1,
   "metadata": {
    "collapsed": false
   },
   "outputs": [],
   "source": [
    "# Weifan Lin\n",
    "from operator import add"
   ]
  },
  {
   "cell_type": "code",
   "execution_count": 2,
   "metadata": {
    "collapsed": false
   },
   "outputs": [
    {
     "data": {
      "text/plain": [
       "[8]"
      ]
     },
     "execution_count": 2,
     "metadata": {},
     "output_type": "execute_result"
    }
   ],
   "source": [
    "# method 1\n",
    "rdd = sc.textFile('citibike.csv')\n",
    "\n",
    "def mapper1(records):\n",
    "    for line in records:\n",
    "        yield (int(line.split(',')[2])/60, 1)\n",
    "\n",
    "def mapper2(durationCounts):\n",
    "    li = []\n",
    "    for i in durationCounts:\n",
    "        li.append(i)\n",
    "    yield li\n",
    "\n",
    "def computeMedian(list1, list2):\n",
    "    li = list1+list2\n",
    "    totalCount = 0\n",
    "    medianCount = 0\n",
    "    for duration, count in li:\n",
    "        totalCount += count\n",
    "    for duration, count in li:\n",
    "        medianCount += count\n",
    "        if medianCount > totalCount/2:\n",
    "            yield duration\n",
    "            break\n",
    "    \n",
    "durationCount = rdd.mapPartitions(mapper1).reduceByKey(add).sortByKey()\n",
    "median = list(durationCount.mapPartitions(mapper2).reduce(computeMedian))\n",
    "median # median is 8"
   ]
  },
  {
   "cell_type": "code",
   "execution_count": null,
   "metadata": {
    "collapsed": false
   },
   "outputs": [],
   "source": []
  },
  {
   "cell_type": "code",
   "execution_count": 3,
   "metadata": {
    "collapsed": false
   },
   "outputs": [
    {
     "data": {
      "text/plain": [
       "[Row(_c0=8.0)]"
      ]
     },
     "execution_count": 3,
     "metadata": {},
     "output_type": "execute_result"
    }
   ],
   "source": [
    "# method 2\n",
    "lines = sc.textFile('citibike.csv')\n",
    "minutes = lines.map(lambda x: (int(x.split(',')[2])/60,))\n",
    "df = sqlContext.createDataFrame(minutes, ('minutes', )).cache()\n",
    "df.registerTempTable('records')\n",
    "sqlContext.sql('select percentile(minutes, 0.5) from records').collect()"
   ]
  },
  {
   "cell_type": "code",
   "execution_count": null,
   "metadata": {
    "collapsed": true
   },
   "outputs": [],
   "source": []
  }
 ],
 "metadata": {
  "kernelspec": {
   "display_name": "Python 2",
   "language": "python",
   "name": "python2"
  },
  "language_info": {
   "codemirror_mode": {
    "name": "ipython",
    "version": 2
   },
   "file_extension": ".py",
   "mimetype": "text/x-python",
   "name": "python",
   "nbconvert_exporter": "python",
   "pygments_lexer": "ipython2",
   "version": "2.7.11"
  }
 },
 "nbformat": 4,
 "nbformat_minor": 0
}
