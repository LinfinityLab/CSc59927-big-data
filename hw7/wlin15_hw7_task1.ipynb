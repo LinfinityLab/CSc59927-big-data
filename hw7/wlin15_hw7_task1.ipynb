{
 "cells": [
  {
   "cell_type": "code",
   "execution_count": 1,
   "metadata": {
    "collapsed": false
   },
   "outputs": [],
   "source": [
    "from csv_parser import csvRDD\n",
    "\n",
    "hsfn = 'DOE_High_School_Directory_2014-2015.csv'\n",
    "satfn = 'SAT_Results.csv'\n",
    "\n",
    "lines_hs = sc.textFile(hsfn, use_unicode=False).cache()\n",
    "lines_sat = sc.textFile(satfn, use_unicode=False).cache()\n",
    "\n",
    "rdd_hs = csvRDD(lines_hs)\n",
    "rdd_sat = csvRDD(lines_sat)\n",
    "\n",
    "# from hs, filter out lines that contain total_student <500 or 'N/A', return (dbn, boro)\n",
    "records_hs = rdd_hs.filter(lambda line: line[17]!='N/A') \\\n",
    "                   .filter(lambda line: int(line[17])>=500) \\\n",
    "                   .map(lambda line: (line[0], line[2]))\n",
    "\n",
    "# from sat, filter out lines that contain 's' in Math Avg, return (dbn, Math Avg, # takers)\n",
    "records_sat = rdd_sat.filter(lambda line: line[4]!='s') \\\n",
    "                     .map(lambda line: (line[0], line[4], line[2]))"
   ]
  },
  {
   "cell_type": "code",
   "execution_count": 2,
   "metadata": {
    "collapsed": false
   },
   "outputs": [
    {
     "name": "stdout",
     "output_type": "stream",
     "text": [
      "+------+---------+--------+------------+\n",
      "|   dbn|     boro|math_avg|total_takers|\n",
      "+------+---------+--------+------------+\n",
      "|15K519| Brooklyn|     402|          77|\n",
      "|10X440|    Bronx|     426|         443|\n",
      "|14K558| Brooklyn|     385|          72|\n",
      "|07X527|    Bronx|     378|          62|\n",
      "|27Q262|   Queens|     419|          74|\n",
      "|30Q501|   Queens|     496|         174|\n",
      "|30Q502|   Queens|     434|         148|\n",
      "|10X445|    Bronx|     688|         731|\n",
      "|04M435|Manhattan|     514|         375|\n",
      "|16K498| Brooklyn|     372|          46|\n",
      "|01M539|Manhattan|     574|         159|\n",
      "|14K449| Brooklyn|     584|          72|\n",
      "|03M479|Manhattan|     575|         261|\n",
      "|12X271|    Bronx|     378|          46|\n",
      "|27Q650|   Queens|     491|         194|\n",
      "|09X241|    Bronx|     464|          80|\n",
      "|10X225|    Bronx|     391|          59|\n",
      "|29Q259|   Queens|     397|          46|\n",
      "|25Q281|   Queens|     463|          59|\n",
      "|03M415|Manhattan|     368|          32|\n",
      "+------+---------+--------+------------+\n",
      "only showing top 20 rows\n",
      "\n"
     ]
    }
   ],
   "source": [
    "hsdf = sqlContext.createDataFrame(records_hs, (\"dbn\",\"boro\"))\n",
    "\n",
    "satdf = sqlContext.createDataFrame(records_sat, (\"dbn\",\"math_avg\",\"total_takers\"))\n",
    "\n",
    "joindf = hsdf.join(satdf, hsdf.dbn == satdf.dbn, 'inner').drop(satdf.dbn)\n",
    "joindf.registerTempTable('school_sat')\n",
    "joindf.show()"
   ]
  },
  {
   "cell_type": "code",
   "execution_count": 3,
   "metadata": {
    "collapsed": false
   },
   "outputs": [
    {
     "data": {
      "text/plain": [
       "[Row(boro=u'Queens', avg=474.88703080977916),\n",
       " Row(boro=u'Brooklyn', avg=487.46256168204246),\n",
       " Row(boro=u'Staten Island', avg=477.9099864130435),\n",
       " Row(boro=u'Bronx', avg=470.198606271777),\n",
       " Row(boro=u'Manhattan', avg=514.9312780989081)]"
      ]
     },
     "execution_count": 3,
     "metadata": {},
     "output_type": "execute_result"
    }
   ],
   "source": [
    "sqlContext.sql('select boro, (sum(math_avg*total_takers)/sum(total_takers)) as avg \\\n",
    "from school_sat group by boro').collect()"
   ]
  },
  {
   "cell_type": "code",
   "execution_count": null,
   "metadata": {
    "collapsed": true
   },
   "outputs": [],
   "source": []
  }
 ],
 "metadata": {
  "kernelspec": {
   "display_name": "Python 2",
   "language": "python",
   "name": "python2"
  },
  "language_info": {
   "codemirror_mode": {
    "name": "ipython",
    "version": 2
   },
   "file_extension": ".py",
   "mimetype": "text/x-python",
   "name": "python",
   "nbconvert_exporter": "python",
   "pygments_lexer": "ipython2",
   "version": "2.7.11"
  }
 },
 "nbformat": 4,
 "nbformat_minor": 0
}
